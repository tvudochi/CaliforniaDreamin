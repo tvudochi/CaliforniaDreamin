{
 "cells": [
  {
   "cell_type": "code",
   "execution_count": null,
   "id": "fb38bb4e",
   "metadata": {},
   "outputs": [],
   "source": [
    "import pandas as pd\n",
    "import re\n",
    "def read_csv(filepath: str) -> pd.DataFrame:\n",
    "    df = pd.read_csv(filepath)\n",
    "    return(df)\n",
    "\n",
    "def str_substitute(mypattern: str, mystr_toreplace: str, mystr: str) -> str:\n",
    "    try:\n",
    "        re.sub(mypattern, mystr_toreplace, mystr)\n",
    "    except(re.error, TypeError) as e:\n",
    "        print(type(e))\n",
    "        print(\"Erreur :\", e.args)\n",
    "    else:\n",
    "        return mystr\n",
    "    \n",
    "def serie_substitute(df: pd.DataFrame, seriename: str) -> pd.DataFrame:\n",
    "    try:\n",
    "        df[seriename] = df[seriename].map(lambda mystr: re.sub(r'\\s', '_', mystr, count=0), na_action='ignore')\n",
    "    except KeyError as e:\n",
    "        print(\"Key Error\")\n",
    "    else:\n",
    "        return(df)\n",
    "\n",
    "def save_csv(filepath: str, df: pd.DataFrame):\n",
    "    df.to_csv(filepath)\n",
    "\n",
    "df = read_csv(\"California_Wildfire_Damage.csv\")\n",
    "df = serie_substitute(df, \"Locatio\")\n",
    "# save_csv(\"data.csv\", df)\n"
   ]
  },
  {
   "cell_type": "code",
   "execution_count": null,
   "id": "114c8563",
   "metadata": {},
   "outputs": [],
   "source": [
    "import re\n",
    "\n",
    "def str_substitute(mypattern: str, mystr_toreplace: str, mystr: str) -> str:\n",
    "    try:\n",
    "        return re.sub(mypattern, mystr_toreplace, mystr)\n",
    "    except (re.error, TypeError) as e:\n",
    "        raise ValueError(f\"Substitution invalide : {e}\")\n",
    "\n",
    "mystr=str_substitute(r'[', '_', \"Sonoma Caca caca\")\n",
    "print(mystr)\n"
   ]
  },
  {
   "cell_type": "code",
   "execution_count": 20,
   "id": "d116f23b",
   "metadata": {},
   "outputs": [],
   "source": [
    "import pandas as pd\n",
    "df = pd.read_csv(\"data.csv\")\n",
    "df[\"Area_Burned (Acres)\"] = df[\"Area_Burned (Acres)\"].map(lambda x: round(x/2.4710, 2), na_action='ignore')\n",
    "df.to_csv(\"data.csv\", index=False)"
   ]
  },
  {
   "cell_type": "code",
   "execution_count": 21,
   "id": "324d7ff1",
   "metadata": {},
   "outputs": [],
   "source": [
    "import pandas as pd\n",
    "from datetime import datetime\n",
    "df = pd.read_csv(\"data.csv\")\n",
    "# df[\"Date\"] = df[\"Date\"].map(lambda mystr: datetime.strptime(mystr, '%Y-%m-%d'), na_action=\"ignore\")\n",
    "df['Date'] = pd.to_datetime(df['Date'], errors='coerce')\n",
    "date_limite = pd.Timestamp.today() - pd.DateOffset(years=5)\n",
    "df_ancien = df[df['Date'] > date_limite]\n",
    "df_ancien.to_csv(\"data.csv\", index=False)"
   ]
  },
  {
   "cell_type": "code",
   "execution_count": null,
   "id": "cd1d846b",
   "metadata": {},
   "outputs": [],
   "source": [
    "import pandas as pd\n",
    "df = pd.read_csv(\"California_Wildfire_Damage.csv\")\n",
    "type(df)"
   ]
  }
 ],
 "metadata": {
  "kernelspec": {
   "display_name": "CaliforniaDreamin",
   "language": "python",
   "name": "python3"
  },
  "language_info": {
   "codemirror_mode": {
    "name": "ipython",
    "version": 3
   },
   "file_extension": ".py",
   "mimetype": "text/x-python",
   "name": "python",
   "nbconvert_exporter": "python",
   "pygments_lexer": "ipython3",
   "version": "3.12.4"
  }
 },
 "nbformat": 4,
 "nbformat_minor": 5
}
